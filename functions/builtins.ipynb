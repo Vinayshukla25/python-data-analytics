{
 "cells": [
  {
   "attachments": {},
   "cell_type": "markdown",
   "metadata": {},
   "source": [
    "- builtin fuction\n",
    "  -input()\n",
    "  -print()\n",
    "  -type()\n",
    "  -isinstance()\n",
    "  -len()\n",
    "  -min()\n",
    "  -max()\n",
    "  -sum()\n",
    "  -abc()\n",
    "  -round()\n",
    "  -eval()\n",
    "  -all()\n",
    "  -any()\n",
    "  -open()\n",
    "\n"
   ]
  },
  {
   "cell_type": "code",
   "execution_count": null,
   "metadata": {},
   "outputs": [],
   "source": [
    "x = 129.05\n",
    "isinstance(x, (int, float))"
   ]
  },
  {
   "cell_type": "code",
   "execution_count": null,
   "metadata": {},
   "outputs": [],
   "source": [
    "x = 10\n",
    "y = 3\n",
    "expression = input(\"enter your equation using x and y:\")\n",
    "print(\"your equation is\", expression)\n",
    "print(eval(expression))"
   ]
  },
  {
   "cell_type": "code",
   "execution_count": null,
   "metadata": {},
   "outputs": [],
   "source": [
    "eval('x*y')"
   ]
  },
  {
   "cell_type": "code",
   "execution_count": null,
   "metadata": {},
   "outputs": [],
   "source": [
    "x = [1,2,3,4,5,6]\n",
    "y = [1,2,3,4,5,0]\n",
    "z = [0,0,0,0,0,0]\n",
    "a = [0,0,0,0,0,1]\n",
    "\n",
    "print(all(x))\n",
    "print(all(y))\n",
    "print(all(z))\n",
    "print(any(z))\n",
    "print(any(a))\n",
    "print(any(x))\n"
   ]
  },
  {
   "cell_type": "code",
   "execution_count": null,
   "metadata": {},
   "outputs": [],
   "source": [
    "print(bool(0), bool(''), bool('asd'), bool(-1), bool(120))"
   ]
  },
  {
   "attachments": {},
   "cell_type": "markdown",
   "metadata": {},
   "source": [
    "file handling with open()\n",
    " -read\n",
    " -write\n",
    " -append\n",
    " "
   ]
  },
  {
   "cell_type": "code",
   "execution_count": null,
   "metadata": {},
   "outputs": [],
   "source": [
    "file = open('../dummy.txt')"
   ]
  },
  {
   "cell_type": "code",
   "execution_count": null,
   "metadata": {},
   "outputs": [],
   "source": [
    "file.read()"
   ]
  },
  {
   "cell_type": "code",
   "execution_count": null,
   "metadata": {},
   "outputs": [],
   "source": [
    "with open('../dummy.txt') as file: ##file open krne k liye ye tarika sahi rahta hai kuki isme file apne aap close ho jati hai\n",
    "     print(file.read())"
   ]
  },
  {
   "cell_type": "code",
   "execution_count": null,
   "metadata": {},
   "outputs": [],
   "source": [
    "with open('builtins.ipynb') as file: \n",
    "    print(file.read())"
   ]
  },
  {
   "cell_type": "code",
   "execution_count": null,
   "metadata": {},
   "outputs": [],
   "source": [
    "with open('../dummy.txt') as file:\n",
    "    content + file.read()\n",
    "    "
   ]
  },
  {
   "cell_type": "code",
   "execution_count": null,
   "metadata": {},
   "outputs": [],
   "source": [
    "path = 'C:/Users/vinay/OneDrive/Desktop/New Text Document.txt'\n",
    "with open(path) as f:\n",
    "    print(f.read())"
   ]
  },
  {
   "cell_type": "code",
   "execution_count": null,
   "metadata": {},
   "outputs": [],
   "source": [
    "x = [12,35,1,632,]\n",
    "print(max(x))\n",
    "print(max(x))\n",
    "print(sum(x))"
   ]
  },
  {
   "cell_type": "code",
   "execution_count": null,
   "metadata": {},
   "outputs": [],
   "source": [
    "meri_kahani = '''ytguhuijojiojoi....'''\n",
    "with open('kahani.txt', 'w') as f:\n",
    "    f.write(meri_kahani)"
   ]
  },
  {
   "cell_type": "code",
   "execution_count": null,
   "metadata": {},
   "outputs": [],
   "source": [
    "dusri_kahani = '''ek samay ki baat hai,bahut dur desh me.'''\n",
    "addr = r\"C:\\Users\\vinay\\OneDrive\\Documents\\dusri_kahani.txt\"\n",
    "with open(addr, 'w') as f:\n",
    "    f.write(dusri_kahani)\n",
    "    print(\"file save\")"
   ]
  },
  {
   "cell_type": "code",
   "execution_count": null,
   "metadata": {},
   "outputs": [],
   "source": [
    "user_ka_data = input(\"enter your story:\")\n",
    "with open(addr, 'a') as f:\n",
    "    f.write(\"\\n\" + user_ka_data)\n",
    "    print(\"file updated\")"
   ]
  },
  {
   "cell_type": "code",
   "execution_count": null,
   "metadata": {},
   "outputs": [],
   "source": [
    "with open(addr) as f:\n",
    "    print(f.read())"
   ]
  },
  {
   "cell_type": "code",
   "execution_count": null,
   "metadata": {},
   "outputs": [],
   "source": []
  }
 ],
 "metadata": {
  "kernelspec": {
   "display_name": "base",
   "language": "python",
   "name": "python3"
  },
  "language_info": {
   "codemirror_mode": {
    "name": "ipython",
    "version": 3
   },
   "file_extension": ".py",
   "mimetype": "text/x-python",
   "name": "python",
   "nbconvert_exporter": "python",
   "pygments_lexer": "ipython3",
   "version": "3.10.10"
  },
  "orig_nbformat": 4
 },
 "nbformat": 4,
 "nbformat_minor": 2
}
